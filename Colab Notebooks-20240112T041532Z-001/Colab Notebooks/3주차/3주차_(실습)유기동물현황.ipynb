{
  "nbformat": 4,
  "nbformat_minor": 0,
  "metadata": {
    "colab": {
      "provenance": []
    },
    "kernelspec": {
      "name": "python3",
      "display_name": "Python 3"
    },
    "language_info": {
      "name": "python"
    }
  },
  "cells": [
    {
      "cell_type": "code",
      "source": [
        "#Drive Mount 실행후 로그인하고 임의의 새로운 폴더를 생성해주세요\n",
        "from google.colab import drive\n",
        "drive.mount('/content/drive')"
      ],
      "metadata": {
        "id": "JCb-WlU_J_md"
      },
      "execution_count": null,
      "outputs": []
    },
    {
      "cell_type": "markdown",
      "source": [
        "#서울특별시 유기동물 현황 확인하기\n",
        "\n"
      ],
      "metadata": {
        "id": "QNyDNQOuXyju"
      }
    },
    {
      "cell_type": "markdown",
      "source": [
        "##1.공공데이터 수집하기\n",
        "#####(1) data.seoul.go.kr 접속\n",
        "#####(2) \"서울시 유기동물보호현황 통계\" 검색\n",
        "#####(3) excel(셀병합 해제), csv, txt 각각 다운로드하여 저장\n",
        "#####(4) colab 왼쪽에 파일을 클릭하여 생성한 폴더에 모두 업로드\n"
      ],
      "metadata": {
        "id": "LzzGPgIdedR7"
      }
    },
    {
      "cell_type": "markdown",
      "source": [
        "##2.데이터 읽어오기\n"
      ],
      "metadata": {
        "id": "WJuoGc3tedD6"
      }
    },
    {
      "cell_type": "markdown",
      "source": [
        "###(1)정형 데이터를 관리하기 위한 라이브러리 선언하기"
      ],
      "metadata": {
        "id": "1kiZq2Upem9p"
      }
    },
    {
      "cell_type": "code",
      "execution_count": null,
      "metadata": {
        "id": "nc0ktHeVOwSG"
      },
      "outputs": [],
      "source": [
        "#라이브러리 선언\n",
        "# import pandas as pd\n",
        "\n",
        "import"
      ]
    },
    {
      "cell_type": "markdown",
      "source": [
        "###(2)excel 화일(유기동물보호현황.xlsx) 읽고 데이터 확인하기\n"
      ],
      "metadata": {
        "id": "579UQKLQXzeR"
      }
    },
    {
      "cell_type": "code",
      "source": [
        "#변수명 = pd.read_excel('파일경로명', 속성들)\n",
        "excelData =\n",
        "excelData"
      ],
      "metadata": {
        "id": "bjUvo_KOYp5z"
      },
      "execution_count": null,
      "outputs": []
    },
    {
      "cell_type": "markdown",
      "source": [
        "###(3)텍스트 화일(유기동물보호현황.txt) 읽고 데이터 확인하기\n"
      ],
      "metadata": {
        "id": "Kt-HY838X0YC"
      }
    },
    {
      "cell_type": "code",
      "source": [
        "#변수명 = pd.read_csv(‘파일경로명', 속성들)\n",
        "txtData =\n",
        "txtData"
      ],
      "metadata": {
        "id": "7Ty-M06gY6Hg"
      },
      "execution_count": null,
      "outputs": []
    },
    {
      "cell_type": "markdown",
      "source": [
        "###(4)tab으로 구분된 텍스트 화일(유기동물보호현황.txt) 읽어오기\n",
        "\n"
      ],
      "metadata": {
        "id": "iF8EelzhX011"
      }
    },
    {
      "cell_type": "code",
      "source": [
        "#변수명 = pd.read_csv(파일경로명, 속성들)\n",
        "#delimiter='구분기호'\n",
        "# 생략시 \",\"로 인식\n",
        "# \\t: tab을 열 구분 문자로 인식\n",
        "txtData =\n",
        "txtData"
      ],
      "metadata": {
        "id": "dB-swRpfc8va"
      },
      "execution_count": null,
      "outputs": []
    },
    {
      "cell_type": "markdown",
      "source": [
        "###(5)csv 화일(유기동물보호현황.csv) 읽어오기 (오류생김)\n"
      ],
      "metadata": {
        "id": "Eu-c-acIX1rS"
      }
    },
    {
      "cell_type": "code",
      "source": [
        "#변수명 = pd.read_csv('파일경로명', 속성들)\n",
        "csvData =\n",
        "csvData"
      ],
      "metadata": {
        "id": "bYu6Fi5IZi1e"
      },
      "execution_count": null,
      "outputs": []
    },
    {
      "cell_type": "markdown",
      "source": [
        "###(6)csv 화일(유기동물보호현황.csv) 읽어오기\n",
        "- Encoding 방식 설정\n",
        "\n"
      ],
      "metadata": {
        "id": "wyUNZMk7X1_t"
      }
    },
    {
      "cell_type": "code",
      "source": [
        "#변수명 = pd.read_csv(파일경로명, 속성들)\n",
        "\n",
        "#- encoding=‘인코딩방식’: 한글이 깨져서 보일 경우 인코딩 방식 설정\n",
        "#- EUC_KR(한글이 포함된 일반적인 경우)/cp949(MS office에서 저장한 파일 형식)\n",
        "csvData =\n",
        "csvData"
      ],
      "metadata": {
        "id": "42zVuSiZZnx2"
      },
      "execution_count": null,
      "outputs": []
    },
    {
      "cell_type": "markdown",
      "source": [
        "###(7)데이터 정보 확인하기\n",
        "데이터타입, 각 행열의 개수, 누락데이터 수등 확인한 후 다음 물음에 답하세요.\n",
        "\n",
        "\n",
        "\n",
        "- 행과 열은 어떻게 구성되어 있는가?\n",
        "- 열의 이름들은 무엇인가?     \n",
        "- 범주형 데이터와 수치형 데이터는 무엇인가?"
      ],
      "metadata": {
        "id": "moLWBf4pX2Yu"
      }
    },
    {
      "cell_type": "code",
      "source": [
        "#변수명.info()\n",
        "\n"
      ],
      "metadata": {
        "id": "cmmiWac_epte"
      },
      "execution_count": null,
      "outputs": []
    },
    {
      "cell_type": "markdown",
      "source": [
        "###(8) csv 화일(유기동물보호현황.csv)에서 특정 행을 header로 설정하여 읽어오기\n",
        "- 2번째 행을 열이름으로 설정하기\n",
        "- 읽어온 데이터를 csvData 변수에 저장하기\n",
        "- 상위 5개의 데이터 확인하기"
      ],
      "metadata": {
        "id": "CycrJgYQX2s3"
      }
    },
    {
      "cell_type": "code",
      "source": [
        "# 변수명 = pd.read_csv(파일경로명, header=[])\n",
        "# header=[행번호] : 위에서 몇 째줄 부터 읽어올지 지정(줄 수는 0부터 시작)\n",
        "# header=[2] : 2번째 행을 열이름으로 설정\n",
        "\n",
        "csvData =\n",
        "csvData.head()"
      ],
      "metadata": {
        "id": "HEFN1fMrdFb5"
      },
      "execution_count": null,
      "outputs": []
    },
    {
      "cell_type": "markdown",
      "source": [
        "###(9) 데이터의 정보 확인하기\n",
        "- 행과 열은 어떻게 구성되어 있는가?\n",
        "- 열의 이름들은 무엇인가?\n",
        "- 범주형 데이터와 수치형 데이터는 무엇인가?"
      ],
      "metadata": {
        "id": "XsN0LU6xYSDk"
      }
    },
    {
      "cell_type": "code",
      "source": [],
      "metadata": {
        "id": "bgnb4Qgod4-Q"
      },
      "execution_count": null,
      "outputs": []
    },
    {
      "cell_type": "markdown",
      "source": [
        "###(10)csv 화일(유기동물보호현황.csv)에서 2개의 행을 header로 읽어오기\n",
        "- 1번째와 2번째 행을 열이름으로 설정\n",
        "- 읽어온 데이터를 data 변수에 저장\n",
        "- 상위 5개의 데이터 확인하기\n"
      ],
      "metadata": {
        "id": "UmTQ93pxYShP"
      }
    },
    {
      "cell_type": "code",
      "source": [
        "# header=[1, 2] : 1,2번째 행을 열이름으로 설정\n",
        "\n",
        "data =\n",
        "data.head()"
      ],
      "metadata": {
        "id": "XMmhtMRodiKW"
      },
      "execution_count": null,
      "outputs": []
    },
    {
      "cell_type": "markdown",
      "source": [
        "###(11) 데이터의 정보 확인하기\n",
        "- 행과 열은 어떻게 구성되어 있는가?\n",
        "- 열의 이름들은 무엇인가?\n",
        "- 범주형 데이터와 수치형 데이터는 무엇인가?"
      ],
      "metadata": {
        "id": "5shosZ1EYSyH"
      }
    },
    {
      "cell_type": "code",
      "source": [],
      "metadata": {
        "id": "Kk8eTjfidoU2"
      },
      "execution_count": null,
      "outputs": []
    },
    {
      "cell_type": "markdown",
      "source": [
        "###(12)csv 화일(유기동물보호현황.csv) 읽어오기\n",
        "- 1번째와 2번째 행을 열이름으로 설정\n",
        "- 숫자에 ','가 있는 데이터의 ','는 모두 제거\n",
        "- 상위 5개의 데이터 확인하기"
      ],
      "metadata": {
        "id": "PYhlX24GYTCz"
      }
    },
    {
      "cell_type": "code",
      "source": [
        "# 변수명 = pd.read_csv(파일경로명, 속성들)\n",
        "#thousands=',' : ','가 포함된 문자열 데이터에서 ','를 삭제하고 숫자형 데이터를 변경\n",
        "\n",
        "csvData =\n",
        "csvData.head()"
      ],
      "metadata": {
        "id": "HdZqUugsdzjf"
      },
      "execution_count": null,
      "outputs": []
    },
    {
      "cell_type": "markdown",
      "source": [
        "###(13) 데이터의 정보 확인하기\n",
        "- 행과 열은 어떻게 구성되어 있는가?\n",
        "- 열의 이름들은 무엇인가?\n",
        "- 범주형 데이터와 수치형 데이터는 무엇인가?"
      ],
      "metadata": {
        "id": "uearvAVWfYtx"
      }
    },
    {
      "cell_type": "code",
      "source": [],
      "metadata": {
        "id": "l_qNP11-fYHV"
      },
      "execution_count": null,
      "outputs": []
    },
    {
      "cell_type": "markdown",
      "source": [
        "##3.데이터를 화일에 저장하기\n",
        "\n"
      ],
      "metadata": {
        "id": "50O7_nUCYTcc"
      }
    },
    {
      "cell_type": "markdown",
      "source": [
        "###(1) 데이터를 csv 화일(변환후.csv)로 저장하기\n"
      ],
      "metadata": {
        "id": "tq-oaq0ZetLb"
      }
    },
    {
      "cell_type": "code",
      "source": [
        "#변수명.to_csv('화일명')\n",
        "\n"
      ],
      "metadata": {
        "id": "AAA_L5qpeNG_"
      },
      "execution_count": null,
      "outputs": []
    },
    {
      "cell_type": "markdown",
      "source": [
        "###(2) 데이터를 excel 화일(변환후.xlsx)로 저장하기\n"
      ],
      "metadata": {
        "id": "P2Hw6o51YUB6"
      }
    },
    {
      "cell_type": "code",
      "source": [
        "#변수명.to_excel('화일명')\n",
        "\n"
      ],
      "metadata": {
        "id": "UABMbKuffZiK"
      },
      "execution_count": null,
      "outputs": []
    },
    {
      "cell_type": "code",
      "source": [],
      "metadata": {
        "id": "D4k37pTmjKQU"
      },
      "execution_count": null,
      "outputs": []
    }
  ]
}