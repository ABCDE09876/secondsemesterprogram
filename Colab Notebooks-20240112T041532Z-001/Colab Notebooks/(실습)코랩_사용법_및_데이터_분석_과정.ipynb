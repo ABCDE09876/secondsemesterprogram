{
  "nbformat": 4,
  "nbformat_minor": 0,
  "metadata": {
    "colab": {
      "provenance": []
    },
    "kernelspec": {
      "name": "python3",
      "display_name": "Python 3"
    },
    "language_info": {
      "name": "python"
    }
  },
  "cells": [
    {
      "cell_type": "markdown",
      "source": [
        "#Colab 사용법 실습 I\n",
        "본 실습에서는 앞으로 학습하게될 데이터 분석의 전반적인 과정과 Colab 사용법을 학습합니다. 지시사항에 따라 순차적으로 진행해주세요."
      ],
      "metadata": {
        "id": "O0Mz9G3hmDoT"
      }
    },
    {
      "cell_type": "markdown",
      "source": [
        "##1.노트이름 변경하기\n",
        "노트의 이름을 **학과/학번/이름.ipynb 로 변경**하세요."
      ],
      "metadata": {
        "id": "6CpeA18I5tmN"
      }
    },
    {
      "cell_type": "markdown",
      "source": [
        "##2.텍스트셀 연습\n",
        "바로 밑에 **[텍스트 셀]**을 삽입하여 다음 텍스트를 입력하세요.\n",
        "- 학과/학번/이름\n",
        "- 한글 깨짐을 위한 라이브러리 설치 및 import\"\n",
        "\n"
      ],
      "metadata": {
        "id": "1738ITuhmDcP"
      }
    },
    {
      "cell_type": "markdown",
      "source": [
        "##3.코드셀 연습\n",
        "바로 밑에 [코드 셀]을 삽입하여 다음 텍스트를 입력한 후 실행(Shift+Enter/Ctrl+Enter/왼쪽의 play 버튼) 하세요.\n",
        "\n",
        "!pip install koreanize-matplotlib\n",
        "\n",
        "import koreanize_matplotlib"
      ],
      "metadata": {
        "id": "LcQOZKJY4d25"
      }
    },
    {
      "cell_type": "markdown",
      "source": [
        "##4.드라이브 마운트하기\n",
        "######1)왼쪽의 폴더 모양을 클릭하세요.\n",
        "######2)드라이브 마운트를 클릭하세요.\n",
        "######3)다음 코드가 보이면 실행하고 Google Drive에 연결을 클릭하고 로그인하세요.\n",
        "######from google.colab import drive\n",
        "######drive.mount('/content/drive')\n",
        "######3)drive/Mydrive/Colab Notebooks 폴더에 **[2주차]** 폴더를 생성하세요.\n",
        "\n",
        "\n",
        "\n",
        "\n",
        "\n",
        "\n"
      ],
      "metadata": {
        "id": "YRwojFit5if2"
      }
    },
    {
      "cell_type": "markdown",
      "source": [
        "##5.공공데이터 파일 업로드하기\n",
        "**[2주차]**폴더에 **\"상도동 아파트 실거래가.xlsx\"화일**을 업로드하세요."
      ],
      "metadata": {
        "id": "YFZS5fnd8KCz"
      }
    },
    {
      "cell_type": "markdown",
      "source": [
        "#데이터 분석 과정 기초 실습 II\n",
        "국토교통부의 실거래 공개시스템에서 제공하는 서울시 동작구 상도동 아파트 거래 내역을 excel 화일로 가져와 데이터가 어떻게 구성되었는지 확인해보자.\n",
        "각 [코드셀]에 [텍스트셀]에 있는 명령어들을 입력하여 실행하세요.\n",
        "##1. 필요한 라이브러리(pandas, matplotlib, seaborn)들 import 하기\n",
        "######import pandas as pd\n",
        "######import matplotlib.pyplot as plt\n",
        "######import seaborn as sns"
      ],
      "metadata": {
        "id": "RTleB_C3NTsk"
      }
    },
    {
      "cell_type": "code",
      "execution_count": null,
      "metadata": {
        "id": "E9XBS0N9KuR0"
      },
      "outputs": [],
      "source": []
    },
    {
      "cell_type": "markdown",
      "source": [
        "##2. 데이터수집하기(excel 파일 읽어오기)\n",
        "######**'상도동 아파트 실거래가.xlsx'화일**은 **[2주차] 폴더**에 있는 화일을 한번 클릭하여 화일명 오른쪽의 ... 을 클릭한 후 **[경로복사]하여 붙여넣기**(Ctrl+V)하세요\n",
        "######aptData = pd.read_excel('상도동 아파트 실거래가.xlsx')\n",
        "######aptData"
      ],
      "metadata": {
        "id": "XVw764IhOj9x"
      }
    },
    {
      "cell_type": "code",
      "source": [],
      "metadata": {
        "id": "2Fa586_8OJpr"
      },
      "execution_count": null,
      "outputs": []
    },
    {
      "cell_type": "markdown",
      "source": [
        "##3. 데이터 구성 확인하기\n",
        "aptData.info()"
      ],
      "metadata": {
        "id": "pxJjDO4ZPIAM"
      }
    },
    {
      "cell_type": "code",
      "source": [],
      "metadata": {
        "id": "rrmSBKEdPD89"
      },
      "execution_count": null,
      "outputs": []
    },
    {
      "cell_type": "markdown",
      "source": [
        "##4. 공공데이터 시각화하기\n",
        "(1)전용면적에 따른 거래금액의 분포를 시각화하시오.\n",
        "\n",
        "sns.relplot(data=aptData, x='전용면적', y='거래금액');"
      ],
      "metadata": {
        "id": "UUetyt53P0BE"
      }
    },
    {
      "cell_type": "code",
      "source": [],
      "metadata": {
        "id": "4gkdLDh6PRpJ"
      },
      "execution_count": null,
      "outputs": []
    },
    {
      "cell_type": "markdown",
      "source": [
        "(2)건축년도에 따른 거래금액의 분포를 시각화하시오.\n",
        "\n",
        "sns.relplot(data=aptData, x='건축년도', y='거래금액');"
      ],
      "metadata": {
        "id": "m-6BnM2jRh5A"
      }
    },
    {
      "cell_type": "code",
      "source": [],
      "metadata": {
        "id": "xkO3thvNQtKz"
      },
      "execution_count": null,
      "outputs": []
    },
    {
      "cell_type": "markdown",
      "source": [
        "(3)건축년도에 따른 거래금액의 분포를 층수별로 시각화하시오.\n",
        "\n",
        "sns.relplot(data=aptData, x='건축년도', y='거래금액', hue='층');"
      ],
      "metadata": {
        "id": "5Wun7tQNR2ir"
      }
    },
    {
      "cell_type": "code",
      "source": [],
      "metadata": {
        "id": "0fjyvIY2Rv5a"
      },
      "execution_count": null,
      "outputs": []
    },
    {
      "cell_type": "markdown",
      "source": [
        "##Colab 사용법 실습 III\n",
        "#####(1)출력결과 모두 삭제하기 : [수정]메뉴->[모든출력지우기] 클릭\n",
        "#####(2)모두 실행하기 : [런타임]메뉴->[모두 실행]클릭\n",
        "#####(3)*.ipynb 화일 다른이름으로 저장 : [파일]메뉴 ->[드라이브에 사본저장]클릭\n",
        "#####(4)*.ipynb 다운로드 : [파일]메뉴 ->[다운로드]클릭"
      ],
      "metadata": {
        "id": "lLzW5spl_o0l"
      }
    }
  ]
}